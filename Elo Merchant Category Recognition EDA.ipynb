{
 "cells": [
  {
   "cell_type": "code",
   "execution_count": 1,
   "metadata": {},
   "outputs": [],
   "source": [
    "import pandas as pd\n",
    "import numpy as np\n",
    "import sys\n",
    "\n",
    "import seaborn as sns\n",
    "import matplotlib.pyplot as plt"
   ]
  },
  {
   "cell_type": "code",
   "execution_count": 2,
   "metadata": {},
   "outputs": [],
   "source": [
    "sys.path.append('../data')"
   ]
  },
  {
   "cell_type": "markdown",
   "metadata": {},
   "source": [
    "# Exploring data: train, test files."
   ]
  },
  {
   "cell_type": "code",
   "execution_count": 3,
   "metadata": {},
   "outputs": [
    {
     "name": "stdout",
     "output_type": "stream",
     "text": [
      "(201917, 6)\n",
      "(123623, 5)\n"
     ]
    }
   ],
   "source": [
    "# Remember to change directory path\n",
    "train = pd.read_csv(\"C:/Users/HP/charles/capacitaciones/method data science/Kaggle/newton/data/train.csv\", parse_dates=['first_active_month'])\n",
    "test = pd.read_csv(\"C:/Users/HP/charles/capacitaciones/method data science/Kaggle/newton/data/test.csv\", parse_dates=['first_active_month'])\n",
    "print(train.shape)\n",
    "print(test.shape)"
   ]
  },
  {
   "cell_type": "code",
   "execution_count": 4,
   "metadata": {},
   "outputs": [
    {
     "name": "stdout",
     "output_type": "stream",
     "text": [
      "           card_id  feature_1  feature_2  feature_3 first_active_month  \\\n",
      "0  C_ID_92a2005557          5          2          1         2017-06-01   \n",
      "1  C_ID_3d0044924f          4          1          0         2017-01-01   \n",
      "2  C_ID_d639edf6cd          2          2          0         2016-08-01   \n",
      "3  C_ID_186d6a6901          4          3          0         2017-09-01   \n",
      "4  C_ID_cdbd2c0db2          1          3          0         2017-11-01   \n",
      "\n",
      "     target  \n",
      "0 -0.820283  \n",
      "1  0.392913  \n",
      "2  0.688056  \n",
      "3  0.142495  \n",
      "4 -0.159749  \n"
     ]
    },
    {
     "name": "stderr",
     "output_type": "stream",
     "text": [
      "C:\\Users\\HP\\Anaconda3\\lib\\site-packages\\ipykernel_launcher.py:1: FutureWarning: Sorting because non-concatenation axis is not aligned. A future version\n",
      "of pandas will change to not sort by default.\n",
      "\n",
      "To accept the future behavior, pass 'sort=False'.\n",
      "\n",
      "To retain the current behavior and silence the warning, pass 'sort=True'.\n",
      "\n",
      "  \"\"\"Entry point for launching an IPython kernel.\n"
     ]
    }
   ],
   "source": [
    "data = pd.concat([train,test])\n",
    "print(data.head(5))"
   ]
  },
  {
   "cell_type": "code",
   "execution_count": 5,
   "metadata": {},
   "outputs": [
    {
     "data": {
      "text/plain": [
       "card_id                       object\n",
       "feature_1                      int64\n",
       "feature_2                      int64\n",
       "feature_3                      int64\n",
       "first_active_month    datetime64[ns]\n",
       "target                       float64\n",
       "dtype: object"
      ]
     },
     "execution_count": 5,
     "metadata": {},
     "output_type": "execute_result"
    }
   ],
   "source": [
    "data.dtypes"
   ]
  },
  {
   "cell_type": "code",
   "execution_count": 6,
   "metadata": {},
   "outputs": [
    {
     "data": {
      "text/html": [
       "<div>\n",
       "<style scoped>\n",
       "    .dataframe tbody tr th:only-of-type {\n",
       "        vertical-align: middle;\n",
       "    }\n",
       "\n",
       "    .dataframe tbody tr th {\n",
       "        vertical-align: top;\n",
       "    }\n",
       "\n",
       "    .dataframe thead th {\n",
       "        text-align: right;\n",
       "    }\n",
       "</style>\n",
       "<table border=\"1\" class=\"dataframe\">\n",
       "  <thead>\n",
       "    <tr style=\"text-align: right;\">\n",
       "      <th></th>\n",
       "      <th>feature_1</th>\n",
       "      <th>feature_2</th>\n",
       "      <th>feature_3</th>\n",
       "      <th>target</th>\n",
       "    </tr>\n",
       "  </thead>\n",
       "  <tbody>\n",
       "    <tr>\n",
       "      <th>count</th>\n",
       "      <td>325540.00000</td>\n",
       "      <td>325540.000000</td>\n",
       "      <td>325540.000000</td>\n",
       "      <td>201917.000000</td>\n",
       "    </tr>\n",
       "    <tr>\n",
       "      <th>mean</th>\n",
       "      <td>3.10681</td>\n",
       "      <td>1.744038</td>\n",
       "      <td>0.565116</td>\n",
       "      <td>-0.393636</td>\n",
       "    </tr>\n",
       "    <tr>\n",
       "      <th>std</th>\n",
       "      <td>1.18728</td>\n",
       "      <td>0.750540</td>\n",
       "      <td>0.495742</td>\n",
       "      <td>3.850500</td>\n",
       "    </tr>\n",
       "    <tr>\n",
       "      <th>min</th>\n",
       "      <td>1.00000</td>\n",
       "      <td>1.000000</td>\n",
       "      <td>0.000000</td>\n",
       "      <td>-33.219281</td>\n",
       "    </tr>\n",
       "    <tr>\n",
       "      <th>25%</th>\n",
       "      <td>2.00000</td>\n",
       "      <td>1.000000</td>\n",
       "      <td>0.000000</td>\n",
       "      <td>-0.883110</td>\n",
       "    </tr>\n",
       "    <tr>\n",
       "      <th>50%</th>\n",
       "      <td>3.00000</td>\n",
       "      <td>2.000000</td>\n",
       "      <td>1.000000</td>\n",
       "      <td>-0.023437</td>\n",
       "    </tr>\n",
       "    <tr>\n",
       "      <th>75%</th>\n",
       "      <td>4.00000</td>\n",
       "      <td>2.000000</td>\n",
       "      <td>1.000000</td>\n",
       "      <td>0.765453</td>\n",
       "    </tr>\n",
       "    <tr>\n",
       "      <th>max</th>\n",
       "      <td>5.00000</td>\n",
       "      <td>3.000000</td>\n",
       "      <td>1.000000</td>\n",
       "      <td>17.965068</td>\n",
       "    </tr>\n",
       "  </tbody>\n",
       "</table>\n",
       "</div>"
      ],
      "text/plain": [
       "          feature_1      feature_2      feature_3         target\n",
       "count  325540.00000  325540.000000  325540.000000  201917.000000\n",
       "mean        3.10681       1.744038       0.565116      -0.393636\n",
       "std         1.18728       0.750540       0.495742       3.850500\n",
       "min         1.00000       1.000000       0.000000     -33.219281\n",
       "25%         2.00000       1.000000       0.000000      -0.883110\n",
       "50%         3.00000       2.000000       1.000000      -0.023437\n",
       "75%         4.00000       2.000000       1.000000       0.765453\n",
       "max         5.00000       3.000000       1.000000      17.965068"
      ]
     },
     "execution_count": 6,
     "metadata": {},
     "output_type": "execute_result"
    }
   ],
   "source": [
    "data.describe()"
   ]
  },
  {
   "cell_type": "code",
   "execution_count": 7,
   "metadata": {},
   "outputs": [
    {
     "data": {
      "image/png": "[encoded data removed]",
      "text/plain": [
       "<matplotlib.figure.Figure at 0x20500b50080>"
      ]
     },
     "metadata": {},
     "output_type": "display_data"
    }
   ],
   "source": [
    "target_col = \"target\"\n",
    "\n",
    "plt.figure(figsize=(8,6))\n",
    "plt.scatter(range(train.shape[0]), np.sort(train[target_col].values))\n",
    "plt.xlabel('index', fontsize=12)\n",
    "plt.ylabel('Loyalty Score', fontsize=12)\n",
    "plt.show()"
   ]
  },
  {
   "cell_type": "code",
   "execution_count": 8,
   "metadata": {},
   "outputs": [
    {
     "data": {
      "image/png": "[encoded data removed]",
      "text/plain": [
       "<matplotlib.figure.Figure at 0x20500b42fd0>"
      ]
     },
     "metadata": {},
     "output_type": "display_data"
    }
   ],
   "source": [
    "plt.figure(figsize=(12,8))\n",
    "sns.distplot(train[target_col].values, bins=50, kde=False, color=\"red\")\n",
    "plt.title(\"Histogram of Loyalty score\")\n",
    "plt.xlabel('Loyalty score', fontsize=12)\n",
    "plt.show()"
   ]
  },
  {
   "cell_type": "code",
   "execution_count": 9,
   "metadata": {},
   "outputs": [
    {
     "data": {
      "text/plain": [
       "2207"
      ]
     },
     "execution_count": 9,
     "metadata": {},
     "output_type": "execute_result"
    }
   ],
   "source": [
    "(train['target']<-30).sum()"
   ]
  },
  {
   "cell_type": "markdown",
   "metadata": {},
   "source": [
    "Check out this 2207 input values that might be either outliers or erros. Take them into consideration."
   ]
  },
  {
   "cell_type": "code",
   "execution_count": 10,
   "metadata": {},
   "outputs": [
    {
     "data": {
      "image/png": "[encoded data removed]",
      "text/plain": [
       "<matplotlib.figure.Figure at 0x20502bbbd30>"
      ]
     },
     "metadata": {},
     "output_type": "display_data"
    }
   ],
   "source": [
    "cnt_srs_1 = train['first_active_month'].dt.date.value_counts()\n",
    "cnt_srs_1 = cnt_srs_1.sort_index()\n",
    "cnt_srs_2 = test['first_active_month'].dt.date.value_counts()\n",
    "cnt_srs_2 = cnt_srs_2.sort_index()\n",
    "\n",
    "sns.barplot(cnt_srs_1.index, cnt_srs_1.values, alpha = 0.5, color = 'green')\n",
    "sns.barplot(cnt_srs_2.index, cnt_srs_2.values, alpha = 0.5, color = 'red')\n",
    "#plt.bar(cnt_srs_1.index, cnt_srs_1.values, alpha = 0.5, color = 'green')\n",
    "#plt.bar(cnt_srs_2.index, cnt_srs_2.values, alpha = 0.5, color = 'red')\n",
    "\n",
    "plt.xticks(rotation = 'vertical')\n",
    "#plt.xlabel('First active month', fontsize=12)\n",
    "#plt.ylabel('Number of cards', fontsize=12)\n",
    "#plt.title(\"First active month count in train set\")\n",
    "\n",
    "sns.set(rc={'figure.figsize':(14, 6)})\n",
    "\n",
    "plt.show()"
   ]
  },
  {
   "cell_type": "code",
   "execution_count": 11,
   "metadata": {},
   "outputs": [
    {
     "name": "stdout",
     "output_type": "stream",
     "text": [
      "[5 4 2 1 3]\n"
     ]
    }
   ],
   "source": [
    "print(data.feature_1.unique())"
   ]
  },
  {
   "cell_type": "code",
   "execution_count": 12,
   "metadata": {},
   "outputs": [
    {
     "data": {
      "image/png": "[encoded data removed]",
      "text/plain": [
       "<matplotlib.figure.Figure at 0x20502b97e80>"
      ]
     },
     "metadata": {},
     "output_type": "display_data"
    }
   ],
   "source": [
    "# feature 1\n",
    "plt.figure(figsize=(16,8))\n",
    "sns.boxplot(x=\"feature_1\", y=data.target, data=data)\n",
    "plt.xticks(rotation='vertical')\n",
    "plt.xlabel('Feature 1', fontsize=12)\n",
    "plt.ylabel('Loyalty score', fontsize=12)\n",
    "plt.title(\"Feature 1 distribution\")\n",
    "plt.show()"
   ]
  },
  {
   "cell_type": "code",
   "execution_count": 13,
   "metadata": {},
   "outputs": [
    {
     "name": "stdout",
     "output_type": "stream",
     "text": [
      "[2 1 3]\n"
     ]
    }
   ],
   "source": [
    "print(data.feature_2.unique())"
   ]
  },
  {
   "cell_type": "code",
   "execution_count": 14,
   "metadata": {},
   "outputs": [
    {
     "data": {
      "image/png": "[encoded data removed]",
      "text/plain": [
       "<matplotlib.figure.Figure at 0x205030c9588>"
      ]
     },
     "metadata": {},
     "output_type": "display_data"
    }
   ],
   "source": [
    "# feature 2\n",
    "plt.figure(figsize=(16,8))\n",
    "sns.boxplot(x=\"feature_2\", y=data.target, data=data)\n",
    "plt.xticks(rotation='vertical')\n",
    "plt.xlabel('Feature 2', fontsize=12)\n",
    "plt.ylabel('Loyalty score', fontsize=12)\n",
    "plt.title(\"Feature 2 distribution\")\n",
    "plt.show()"
   ]
  },
  {
   "cell_type": "code",
   "execution_count": 15,
   "metadata": {},
   "outputs": [
    {
     "name": "stdout",
     "output_type": "stream",
     "text": [
      "[1 0]\n"
     ]
    }
   ],
   "source": [
    "print(data.feature_3.unique())"
   ]
  },
  {
   "cell_type": "code",
   "execution_count": 16,
   "metadata": {},
   "outputs": [
    {
     "data": {
      "image/png": "[encoded data removed]",
      "text/plain": [
       "<matplotlib.figure.Figure at 0x2050359f0f0>"
      ]
     },
     "metadata": {},
     "output_type": "display_data"
    }
   ],
   "source": [
    "# feature 3\n",
    "plt.figure(figsize=(16,8))\n",
    "sns.boxplot(x=\"feature_3\", y=data.target, data=data)\n",
    "plt.xticks(rotation='vertical')\n",
    "plt.xlabel('Feature 3', fontsize=12)\n",
    "plt.ylabel('Loyalty score', fontsize=12)\n",
    "plt.title(\"Feature 3 distribution\")\n",
    "plt.show()"
   ]
  },
  {
   "cell_type": "markdown",
   "metadata": {},
   "source": [
    "# Exploring data: historical_transactions file."
   ]
  },
  {
   "cell_type": "code",
   "execution_count": 17,
   "metadata": {},
   "outputs": [],
   "source": [
    "hist = pd.read_csv('C:/Users/HP/charles/capacitaciones/method data science/Kaggle/newton/data/historical_transactions.csv')"
   ]
  },
  {
   "cell_type": "code",
   "execution_count": 18,
   "metadata": {},
   "outputs": [
    {
     "data": {
      "text/html": [
       "<div>\n",
       "<style scoped>\n",
       "    .dataframe tbody tr th:only-of-type {\n",
       "        vertical-align: middle;\n",
       "    }\n",
       "\n",
       "    .dataframe tbody tr th {\n",
       "        vertical-align: top;\n",
       "    }\n",
       "\n",
       "    .dataframe thead th {\n",
       "        text-align: right;\n",
       "    }\n",
       "</style>\n",
       "<table border=\"1\" class=\"dataframe\">\n",
       "  <thead>\n",
       "    <tr style=\"text-align: right;\">\n",
       "      <th></th>\n",
       "      <th>authorized_flag</th>\n",
       "      <th>card_id</th>\n",
       "      <th>city_id</th>\n",
       "      <th>category_1</th>\n",
       "      <th>installments</th>\n",
       "      <th>category_3</th>\n",
       "      <th>merchant_category_id</th>\n",
       "      <th>merchant_id</th>\n",
       "      <th>month_lag</th>\n",
       "      <th>purchase_amount</th>\n",
       "      <th>purchase_date</th>\n",
       "      <th>category_2</th>\n",
       "      <th>state_id</th>\n",
       "      <th>subsector_id</th>\n",
       "    </tr>\n",
       "  </thead>\n",
       "  <tbody>\n",
       "    <tr>\n",
       "      <th>0</th>\n",
       "      <td>Y</td>\n",
       "      <td>C_ID_4e6213e9bc</td>\n",
       "      <td>88</td>\n",
       "      <td>N</td>\n",
       "      <td>0</td>\n",
       "      <td>A</td>\n",
       "      <td>80</td>\n",
       "      <td>M_ID_e020e9b302</td>\n",
       "      <td>-8</td>\n",
       "      <td>-0.703331</td>\n",
       "      <td>2017-06-25 15:33:07</td>\n",
       "      <td>1.0</td>\n",
       "      <td>16</td>\n",
       "      <td>37</td>\n",
       "    </tr>\n",
       "    <tr>\n",
       "      <th>1</th>\n",
       "      <td>Y</td>\n",
       "      <td>C_ID_4e6213e9bc</td>\n",
       "      <td>88</td>\n",
       "      <td>N</td>\n",
       "      <td>0</td>\n",
       "      <td>A</td>\n",
       "      <td>367</td>\n",
       "      <td>M_ID_86ec983688</td>\n",
       "      <td>-7</td>\n",
       "      <td>-0.733128</td>\n",
       "      <td>2017-07-15 12:10:45</td>\n",
       "      <td>1.0</td>\n",
       "      <td>16</td>\n",
       "      <td>16</td>\n",
       "    </tr>\n",
       "    <tr>\n",
       "      <th>2</th>\n",
       "      <td>Y</td>\n",
       "      <td>C_ID_4e6213e9bc</td>\n",
       "      <td>88</td>\n",
       "      <td>N</td>\n",
       "      <td>0</td>\n",
       "      <td>A</td>\n",
       "      <td>80</td>\n",
       "      <td>M_ID_979ed661fc</td>\n",
       "      <td>-6</td>\n",
       "      <td>-0.720386</td>\n",
       "      <td>2017-08-09 22:04:29</td>\n",
       "      <td>1.0</td>\n",
       "      <td>16</td>\n",
       "      <td>37</td>\n",
       "    </tr>\n",
       "    <tr>\n",
       "      <th>3</th>\n",
       "      <td>Y</td>\n",
       "      <td>C_ID_4e6213e9bc</td>\n",
       "      <td>88</td>\n",
       "      <td>N</td>\n",
       "      <td>0</td>\n",
       "      <td>A</td>\n",
       "      <td>560</td>\n",
       "      <td>M_ID_e6d5ae8ea6</td>\n",
       "      <td>-5</td>\n",
       "      <td>-0.735352</td>\n",
       "      <td>2017-09-02 10:06:26</td>\n",
       "      <td>1.0</td>\n",
       "      <td>16</td>\n",
       "      <td>34</td>\n",
       "    </tr>\n",
       "    <tr>\n",
       "      <th>4</th>\n",
       "      <td>Y</td>\n",
       "      <td>C_ID_4e6213e9bc</td>\n",
       "      <td>88</td>\n",
       "      <td>N</td>\n",
       "      <td>0</td>\n",
       "      <td>A</td>\n",
       "      <td>80</td>\n",
       "      <td>M_ID_e020e9b302</td>\n",
       "      <td>-11</td>\n",
       "      <td>-0.722865</td>\n",
       "      <td>2017-03-10 01:14:19</td>\n",
       "      <td>1.0</td>\n",
       "      <td>16</td>\n",
       "      <td>37</td>\n",
       "    </tr>\n",
       "  </tbody>\n",
       "</table>\n",
       "</div>"
      ],
      "text/plain": [
       "  authorized_flag          card_id  city_id category_1  installments  \\\n",
       "0               Y  C_ID_4e6213e9bc       88          N             0   \n",
       "1               Y  C_ID_4e6213e9bc       88          N             0   \n",
       "2               Y  C_ID_4e6213e9bc       88          N             0   \n",
       "3               Y  C_ID_4e6213e9bc       88          N             0   \n",
       "4               Y  C_ID_4e6213e9bc       88          N             0   \n",
       "\n",
       "  category_3  merchant_category_id      merchant_id  month_lag  \\\n",
       "0          A                    80  M_ID_e020e9b302         -8   \n",
       "1          A                   367  M_ID_86ec983688         -7   \n",
       "2          A                    80  M_ID_979ed661fc         -6   \n",
       "3          A                   560  M_ID_e6d5ae8ea6         -5   \n",
       "4          A                    80  M_ID_e020e9b302        -11   \n",
       "\n",
       "   purchase_amount        purchase_date  category_2  state_id  subsector_id  \n",
       "0        -0.703331  2017-06-25 15:33:07         1.0        16            37  \n",
       "1        -0.733128  2017-07-15 12:10:45         1.0        16            16  \n",
       "2        -0.720386  2017-08-09 22:04:29         1.0        16            37  \n",
       "3        -0.735352  2017-09-02 10:06:26         1.0        16            34  \n",
       "4        -0.722865  2017-03-10 01:14:19         1.0        16            37  "
      ]
     },
     "execution_count": 18,
     "metadata": {},
     "output_type": "execute_result"
    }
   ],
   "source": [
    "hist.head(5)"
   ]
  },
  {
   "cell_type": "code",
   "execution_count": 19,
   "metadata": {},
   "outputs": [
    {
     "data": {
      "text/plain": [
       "authorized_flag          object\n",
       "card_id                  object\n",
       "city_id                   int64\n",
       "category_1               object\n",
       "installments              int64\n",
       "category_3               object\n",
       "merchant_category_id      int64\n",
       "merchant_id              object\n",
       "month_lag                 int64\n",
       "purchase_amount         float64\n",
       "purchase_date            object\n",
       "category_2              float64\n",
       "state_id                  int64\n",
       "subsector_id              int64\n",
       "dtype: object"
      ]
     },
     "execution_count": 19,
     "metadata": {},
     "output_type": "execute_result"
    }
   ],
   "source": [
    "hist.dtypes"
   ]
  },
  {
   "cell_type": "raw",
   "metadata": {},
   "source": [
    " The field descriptions are as follows:\n",
    "\n",
    "    - card_id - Card identifier\n",
    "    - month_lag - month lag to reference date\n",
    "    - purchase_date - Purchase date\n",
    "    - authorized_flag - 'Y' if approved, 'N' if denied\n",
    "    - category_3 - anonymized category\n",
    "    - installments - number of installments of purchase\n",
    "    - category_1 - anonymized category\n",
    "    - merchant_category_id - Merchant category identifier (anonymized )\n",
    "    - subsector_id - Merchant category group identifier (anonymized )\n",
    "    - merchant_id - Merchant identifier (anonymized)\n",
    "    - purchase_amount - Normalized purchase amount\n",
    "    - city_id - City identifier (anonymized )\n",
    "    - state_id - State identifier (anonymized )\n",
    "    - category_2 - anonymized category\n",
    "    \n",
    "Now let us make some features based on the historical transactions and merge them with train and test set."
   ]
  },
  {
   "cell_type": "code",
   "execution_count": 20,
   "metadata": {},
   "outputs": [
    {
     "name": "stdout",
     "output_type": "stream",
     "text": [
      "           card_id  purchase_amount\n",
      "0  C_ID_00007093c1              149\n",
      "1  C_ID_0001238066              123\n",
      "2  C_ID_0001506ef0               66\n",
      "3  C_ID_0001793786              216\n",
      "4  C_ID_000183fdda              144\n",
      "           card_id  feature_1  feature_2  feature_3 first_active_month  \\\n",
      "0  C_ID_92a2005557          5          2          1         2017-06-01   \n",
      "1  C_ID_3d0044924f          4          1          0         2017-01-01   \n",
      "2  C_ID_d639edf6cd          2          2          0         2016-08-01   \n",
      "3  C_ID_186d6a6901          4          3          0         2017-09-01   \n",
      "4  C_ID_cdbd2c0db2          1          3          0         2017-11-01   \n",
      "\n",
      "     target  num_hist_transactions  \n",
      "0 -0.820283                    260  \n",
      "1  0.392913                    350  \n",
      "2  0.688056                     43  \n",
      "3  0.142495                     77  \n",
      "4 -0.159749                    133  \n"
     ]
    }
   ],
   "source": [
    "# Number of historical transactiones for each card_id\n",
    "gdf = hist.groupby('card_id')\n",
    "#print(gdf.head(5))\n",
    "\n",
    "gdf = gdf['purchase_amount'].size().reset_index()\n",
    "print(gdf.head(5))\n",
    "\n",
    "gdf.columns = ['card_id', 'num_hist_transactions']\n",
    "train = pd.merge(train, gdf, on='card_id', how='left')\n",
    "test = pd.merge(test, gdf, on='card_id', how='left')\n",
    "data = pd.merge(data, gdf, on='card_id', how='left')\n",
    "print(data.head(5))"
   ]
  },
  {
   "cell_type": "code",
   "execution_count": 21,
   "metadata": {},
   "outputs": [
    {
     "data": {
      "text/plain": [
       "first_active_month       datetime64[ns]\n",
       "card_id                          object\n",
       "feature_1                         int64\n",
       "feature_2                         int64\n",
       "feature_3                         int64\n",
       "target                          float64\n",
       "num_hist_transactions             int64\n",
       "dtype: object"
      ]
     },
     "execution_count": 21,
     "metadata": {},
     "output_type": "execute_result"
    }
   ],
   "source": [
    "train.dtypes"
   ]
  },
  {
   "cell_type": "code",
   "execution_count": 22,
   "metadata": {},
   "outputs": [
    {
     "data": {
      "image/png": "[encoded data removed]",
      "text/plain": [
       "<matplotlib.figure.Figure at 0x2050354aa58>"
      ]
     },
     "metadata": {},
     "output_type": "display_data"
    }
   ],
   "source": [
    "bins = [0, 10, 20, 30, 40, 50, 75, 100, 150, 200, 500, 10000]\n",
    "train['binned_num_hist_transactions'] = pd.cut(train['num_hist_transactions'], bins)\n",
    "cnt_srs = train.groupby(\"binned_num_hist_transactions\")['target'].mean()\n",
    "\n",
    "plt.figure(figsize=(12,8))\n",
    "sns.boxplot(x=\"binned_num_hist_transactions\", y='target', data=train, showfliers=False)\n",
    "plt.xticks(rotation='vertical')\n",
    "plt.xlabel('binned_num_hist_transactions', fontsize=12)\n",
    "plt.ylabel('Loyalty score', fontsize=12)\n",
    "plt.title(\"binned_num_hist_transactions distribution\")\n",
    "plt.show()"
   ]
  },
  {
   "cell_type": "code",
   "execution_count": 23,
   "metadata": {},
   "outputs": [
    {
     "data": {
      "text/plain": [
       "first_active_month              datetime64[ns]\n",
       "card_id                                 object\n",
       "feature_1                                int64\n",
       "feature_2                                int64\n",
       "feature_3                                int64\n",
       "target                                 float64\n",
       "num_hist_transactions                    int64\n",
       "binned_num_hist_transactions          category\n",
       "dtype: object"
      ]
     },
     "execution_count": 23,
     "metadata": {},
     "output_type": "execute_result"
    }
   ],
   "source": [
    "train.dtypes"
   ]
  },
  {
   "cell_type": "markdown",
   "metadata": {},
   "source": [
    "## Historical transactions, aggregated by different indicators"
   ]
  },
  {
   "cell_type": "code",
   "execution_count": 24,
   "metadata": {},
   "outputs": [],
   "source": [
    "gdf = hist.groupby(\"card_id\")\n",
    "gdf = gdf[\"purchase_amount\"].agg(['sum', 'mean', 'std', 'min', 'max']).reset_index()\n",
    "gdf.columns = [\"card_id\", \"sum_hist_trans\", \"mean_hist_trans\", \"std_hist_trans\", \"min_hist_trans\", \"max_hist_trans\"]\n",
    "train = pd.merge(train, gdf, on=\"card_id\", how=\"left\")\n",
    "test = pd.merge(test, gdf, on=\"card_id\", how=\"left\")"
   ]
  },
  {
   "cell_type": "code",
   "execution_count": 25,
   "metadata": {},
   "outputs": [
    {
     "data": {
      "image/png": "[encoded data removed]",
      "text/plain": [
       "<matplotlib.figure.Figure at 0x206737cd780>"
      ]
     },
     "metadata": {},
     "output_type": "display_data"
    }
   ],
   "source": [
    "bins = np.percentile(train[\"sum_hist_trans\"], range(0,101,10))\n",
    "train['binned_sum_hist_trans'] = pd.cut(train['sum_hist_trans'], bins)\n",
    "#cnt_srs = train_df.groupby(\"binned_sum_hist_trans\")[target_col].mean()\n",
    "\n",
    "plt.figure(figsize=(12,8))\n",
    "sns.boxplot(x=\"binned_sum_hist_trans\", y='target', data=train, showfliers=False)\n",
    "plt.xticks(rotation='vertical')\n",
    "plt.xlabel('binned_sum_hist_trans', fontsize=12)\n",
    "plt.ylabel('Loyalty score', fontsize=12)\n",
    "plt.title(\"Sum of historical transaction value (Binned) distribution\")\n",
    "plt.show()"
   ]
  },
  {
   "cell_type": "code",
   "execution_count": 26,
   "metadata": {},
   "outputs": [
    {
     "data": {
      "text/plain": [
       "0        -0.820283\n",
       "1         0.392913\n",
       "2         0.688056\n",
       "3         0.142495\n",
       "4        -0.159749\n",
       "5         0.871585\n",
       "6         0.230129\n",
       "7         2.135850\n",
       "8        -0.065406\n",
       "9         0.300062\n",
       "10       -1.029562\n",
       "11       -2.433761\n",
       "12        1.304452\n",
       "13        0.093633\n",
       "14        1.597750\n",
       "15        1.010937\n",
       "16        1.132236\n",
       "17        0.318062\n",
       "18        0.757280\n",
       "19        0.334337\n",
       "20        1.442726\n",
       "21        4.747602\n",
       "22        0.464404\n",
       "23       -0.529658\n",
       "24       -0.084951\n",
       "25        1.525862\n",
       "26       -0.090744\n",
       "27       -1.361720\n",
       "28        0.727093\n",
       "29        1.143863\n",
       "            ...   \n",
       "201887    0.193238\n",
       "201888    0.076491\n",
       "201889   -0.024215\n",
       "201890    0.666202\n",
       "201891   -1.327112\n",
       "201892    0.130062\n",
       "201893    1.047496\n",
       "201894   -0.882748\n",
       "201895   -0.549372\n",
       "201896   -0.616658\n",
       "201897   -0.133215\n",
       "201898   -3.360124\n",
       "201899   -2.702214\n",
       "201900   -0.151734\n",
       "201901   -1.743145\n",
       "201902    1.001529\n",
       "201903    0.251799\n",
       "201904   -0.401386\n",
       "201905    1.182343\n",
       "201906    0.279741\n",
       "201907    0.145590\n",
       "201908    0.319411\n",
       "201909   -0.822266\n",
       "201910   -1.753271\n",
       "201911    0.100164\n",
       "201912   -2.740821\n",
       "201913    0.312917\n",
       "201914    0.093494\n",
       "201915   -4.676589\n",
       "201916   -1.859413\n",
       "Name: target, Length: 201917, dtype: float64"
      ]
     },
     "execution_count": 26,
     "metadata": {},
     "output_type": "execute_result"
    }
   ],
   "source": [
    "train.target"
   ]
  },
  {
   "cell_type": "markdown",
   "metadata": {},
   "source": [
    "# Exploring data: new_merchants_transactions file."
   ]
  },
  {
   "cell_type": "code",
   "execution_count": 27,
   "metadata": {},
   "outputs": [],
   "source": [
    "new_trans = pd.read_csv(\"C:/Users/HP/charles/capacitaciones/method data science/Kaggle/newton/data/new_merchant_transactions.csv\")"
   ]
  },
  {
   "cell_type": "code",
   "execution_count": 28,
   "metadata": {},
   "outputs": [
    {
     "data": {
      "text/html": [
       "<div>\n",
       "<style scoped>\n",
       "    .dataframe tbody tr th:only-of-type {\n",
       "        vertical-align: middle;\n",
       "    }\n",
       "\n",
       "    .dataframe tbody tr th {\n",
       "        vertical-align: top;\n",
       "    }\n",
       "\n",
       "    .dataframe thead th {\n",
       "        text-align: right;\n",
       "    }\n",
       "</style>\n",
       "<table border=\"1\" class=\"dataframe\">\n",
       "  <thead>\n",
       "    <tr style=\"text-align: right;\">\n",
       "      <th></th>\n",
       "      <th>authorized_flag</th>\n",
       "      <th>card_id</th>\n",
       "      <th>city_id</th>\n",
       "      <th>category_1</th>\n",
       "      <th>installments</th>\n",
       "      <th>category_3</th>\n",
       "      <th>merchant_category_id</th>\n",
       "      <th>merchant_id</th>\n",
       "      <th>month_lag</th>\n",
       "      <th>purchase_amount</th>\n",
       "      <th>purchase_date</th>\n",
       "      <th>category_2</th>\n",
       "      <th>state_id</th>\n",
       "      <th>subsector_id</th>\n",
       "    </tr>\n",
       "  </thead>\n",
       "  <tbody>\n",
       "    <tr>\n",
       "      <th>0</th>\n",
       "      <td>Y</td>\n",
       "      <td>C_ID_415bb3a509</td>\n",
       "      <td>107</td>\n",
       "      <td>N</td>\n",
       "      <td>1</td>\n",
       "      <td>B</td>\n",
       "      <td>307</td>\n",
       "      <td>M_ID_b0c793002c</td>\n",
       "      <td>1</td>\n",
       "      <td>-0.557574</td>\n",
       "      <td>2018-03-11 14:57:36</td>\n",
       "      <td>1.0</td>\n",
       "      <td>9</td>\n",
       "      <td>19</td>\n",
       "    </tr>\n",
       "    <tr>\n",
       "      <th>1</th>\n",
       "      <td>Y</td>\n",
       "      <td>C_ID_415bb3a509</td>\n",
       "      <td>140</td>\n",
       "      <td>N</td>\n",
       "      <td>1</td>\n",
       "      <td>B</td>\n",
       "      <td>307</td>\n",
       "      <td>M_ID_88920c89e8</td>\n",
       "      <td>1</td>\n",
       "      <td>-0.569580</td>\n",
       "      <td>2018-03-19 18:53:37</td>\n",
       "      <td>1.0</td>\n",
       "      <td>9</td>\n",
       "      <td>19</td>\n",
       "    </tr>\n",
       "    <tr>\n",
       "      <th>2</th>\n",
       "      <td>Y</td>\n",
       "      <td>C_ID_415bb3a509</td>\n",
       "      <td>330</td>\n",
       "      <td>N</td>\n",
       "      <td>1</td>\n",
       "      <td>B</td>\n",
       "      <td>507</td>\n",
       "      <td>M_ID_ad5237ef6b</td>\n",
       "      <td>2</td>\n",
       "      <td>-0.551037</td>\n",
       "      <td>2018-04-26 14:08:44</td>\n",
       "      <td>1.0</td>\n",
       "      <td>9</td>\n",
       "      <td>14</td>\n",
       "    </tr>\n",
       "    <tr>\n",
       "      <th>3</th>\n",
       "      <td>Y</td>\n",
       "      <td>C_ID_415bb3a509</td>\n",
       "      <td>-1</td>\n",
       "      <td>Y</td>\n",
       "      <td>1</td>\n",
       "      <td>B</td>\n",
       "      <td>661</td>\n",
       "      <td>M_ID_9e84cda3b1</td>\n",
       "      <td>1</td>\n",
       "      <td>-0.671925</td>\n",
       "      <td>2018-03-07 09:43:21</td>\n",
       "      <td>NaN</td>\n",
       "      <td>-1</td>\n",
       "      <td>8</td>\n",
       "    </tr>\n",
       "    <tr>\n",
       "      <th>4</th>\n",
       "      <td>Y</td>\n",
       "      <td>C_ID_ef55cf8d4b</td>\n",
       "      <td>-1</td>\n",
       "      <td>Y</td>\n",
       "      <td>1</td>\n",
       "      <td>B</td>\n",
       "      <td>166</td>\n",
       "      <td>M_ID_3c86fa3831</td>\n",
       "      <td>1</td>\n",
       "      <td>-0.659904</td>\n",
       "      <td>2018-03-22 21:07:53</td>\n",
       "      <td>NaN</td>\n",
       "      <td>-1</td>\n",
       "      <td>29</td>\n",
       "    </tr>\n",
       "  </tbody>\n",
       "</table>\n",
       "</div>"
      ],
      "text/plain": [
       "  authorized_flag          card_id  city_id category_1  installments  \\\n",
       "0               Y  C_ID_415bb3a509      107          N             1   \n",
       "1               Y  C_ID_415bb3a509      140          N             1   \n",
       "2               Y  C_ID_415bb3a509      330          N             1   \n",
       "3               Y  C_ID_415bb3a509       -1          Y             1   \n",
       "4               Y  C_ID_ef55cf8d4b       -1          Y             1   \n",
       "\n",
       "  category_3  merchant_category_id      merchant_id  month_lag  \\\n",
       "0          B                   307  M_ID_b0c793002c          1   \n",
       "1          B                   307  M_ID_88920c89e8          1   \n",
       "2          B                   507  M_ID_ad5237ef6b          2   \n",
       "3          B                   661  M_ID_9e84cda3b1          1   \n",
       "4          B                   166  M_ID_3c86fa3831          1   \n",
       "\n",
       "   purchase_amount        purchase_date  category_2  state_id  subsector_id  \n",
       "0        -0.557574  2018-03-11 14:57:36         1.0         9            19  \n",
       "1        -0.569580  2018-03-19 18:53:37         1.0         9            19  \n",
       "2        -0.551037  2018-04-26 14:08:44         1.0         9            14  \n",
       "3        -0.671925  2018-03-07 09:43:21         NaN        -1             8  \n",
       "4        -0.659904  2018-03-22 21:07:53         NaN        -1            29  "
      ]
     },
     "execution_count": 28,
     "metadata": {},
     "output_type": "execute_result"
    }
   ],
   "source": [
    "new_trans.head(5)"
   ]
  },
  {
   "cell_type": "code",
   "execution_count": 29,
   "metadata": {},
   "outputs": [
    {
     "data": {
      "text/plain": [
       "authorized_flag          object\n",
       "card_id                  object\n",
       "city_id                   int64\n",
       "category_1               object\n",
       "installments              int64\n",
       "category_3               object\n",
       "merchant_category_id      int64\n",
       "merchant_id              object\n",
       "month_lag                 int64\n",
       "purchase_amount         float64\n",
       "purchase_date            object\n",
       "category_2              float64\n",
       "state_id                  int64\n",
       "subsector_id              int64\n",
       "dtype: object"
      ]
     },
     "execution_count": 29,
     "metadata": {},
     "output_type": "execute_result"
    }
   ],
   "source": [
    "new_trans.dtypes"
   ]
  },
  {
   "cell_type": "code",
   "execution_count": 30,
   "metadata": {},
   "outputs": [],
   "source": [
    "gdf = new_trans.groupby(\"card_id\")\n",
    "gdf = gdf[\"purchase_amount\"].size().reset_index()\n",
    "gdf.columns = [\"card_id\", \"num_merch_transactions\"]\n",
    "train = pd.merge(train, gdf, on=\"card_id\", how=\"left\")\n",
    "test = pd.merge(test, gdf, on=\"card_id\", how=\"left\")"
   ]
  },
  {
   "cell_type": "code",
   "execution_count": 31,
   "metadata": {},
   "outputs": [
    {
     "data": {
      "text/plain": [
       "first_active_month              datetime64[ns]\n",
       "card_id                                 object\n",
       "feature_1                                int64\n",
       "feature_2                                int64\n",
       "feature_3                                int64\n",
       "target                                 float64\n",
       "num_hist_transactions                    int64\n",
       "binned_num_hist_transactions          category\n",
       "sum_hist_trans                         float64\n",
       "mean_hist_trans                        float64\n",
       "std_hist_trans                         float64\n",
       "min_hist_trans                         float64\n",
       "max_hist_trans                         float64\n",
       "binned_sum_hist_trans                 category\n",
       "num_merch_transactions                 float64\n",
       "dtype: object"
      ]
     },
     "execution_count": 31,
     "metadata": {},
     "output_type": "execute_result"
    }
   ],
   "source": [
    "train.dtypes"
   ]
  },
  {
   "cell_type": "code",
   "execution_count": 32,
   "metadata": {},
   "outputs": [
    {
     "data": {
      "image/png": "[encoded data removed]",
      "text/plain": [
       "<matplotlib.figure.Figure at 0x2050354a470>"
      ]
     },
     "metadata": {},
     "output_type": "display_data"
    }
   ],
   "source": [
    "bins = [0, 10, 20, 30, 40, 50, 75, 10000]\n",
    "train['binned_num_merch_transactions'] = pd.cut(train['num_merch_transactions'], bins)\n",
    "cnt_srs = train.groupby(\"binned_num_merch_transactions\")['target'].mean()\n",
    "\n",
    "plt.figure(figsize=(12,8))\n",
    "sns.boxplot(x=\"binned_num_merch_transactions\", y='target', data=train, showfliers=False)\n",
    "plt.xticks(rotation='vertical')\n",
    "plt.xlabel('binned_num_merch_transactions', fontsize=12)\n",
    "plt.ylabel('Loyalty score', fontsize=12)\n",
    "plt.title(\"Number of new merchants transaction (Binned) distribution\")\n",
    "plt.show()"
   ]
  },
  {
   "cell_type": "code",
   "execution_count": 33,
   "metadata": {},
   "outputs": [],
   "source": [
    "gdf = new_trans.groupby(\"card_id\")\n",
    "gdf = gdf[\"purchase_amount\"].agg(['sum', 'mean', 'std', 'min', 'max']).reset_index()\n",
    "gdf.columns = [\"card_id\", \"sum_merch_trans\", \"mean_merch_trans\", \"std_merch_trans\", \"min_merch_trans\", \"max_merch_trans\"]\n",
    "train = pd.merge(train, gdf, on=\"card_id\", how=\"left\")\n",
    "test = pd.merge(test, gdf, on=\"card_id\", how=\"left\")"
   ]
  },
  {
   "cell_type": "code",
   "execution_count": 35,
   "metadata": {},
   "outputs": [
    {
     "data": {
      "image/png": "[encoded data removed]",
      "text/plain": [
       "<matplotlib.figure.Figure at 0x20693f09b38>"
      ]
     },
     "metadata": {},
     "output_type": "display_data"
    }
   ],
   "source": [
    "bins = np.nanpercentile(train[\"sum_merch_trans\"], range(0,101,10))\n",
    "train['binned_sum_merch_trans'] = pd.cut(train['sum_merch_trans'], bins)\n",
    "#cnt_srs = train_df.groupby(\"binned_sum_hist_trans\")[target_col].mean()\n",
    "\n",
    "plt.figure(figsize=(12,8))\n",
    "sns.boxplot(x=\"binned_sum_merch_trans\", y='target', data=train, showfliers=False)\n",
    "plt.xticks(rotation='vertical')\n",
    "plt.xlabel('binned sum of new merchant transactions', fontsize=12)\n",
    "plt.ylabel('Loyalty score', fontsize=12)\n",
    "plt.title(\"Sum of New merchants transaction value (Binned) distribution\")\n",
    "plt.show()"
   ]
  },
  {
   "cell_type": "markdown",
   "metadata": {},
   "source": [
    "# Baseline: minable view"
   ]
  },
  {
   "cell_type": "code",
   "execution_count": 47,
   "metadata": {},
   "outputs": [
    {
     "name": "stdout",
     "output_type": "stream",
     "text": [
      "Train_X: \n",
      "\n",
      "   feature_1  feature_2  feature_3  year  month  num_hist_transactions  \\\n",
      "0          5          2          1  2017      6                    260   \n",
      "1          4          1          0  2017      1                    350   \n",
      "2          2          2          0  2016      8                     43   \n",
      "3          4          3          0  2017      9                     77   \n",
      "4          1          3          0  2017     11                    133   \n",
      "\n",
      "   sum_hist_trans  mean_hist_trans  std_hist_trans  min_hist_trans  \\\n",
      "0     -165.968739        -0.638341        0.212139       -0.739395   \n",
      "1     -210.006336        -0.600018        0.384967       -0.742400   \n",
      "2      -29.167391        -0.678311        0.087380       -0.730138   \n",
      "3      -49.491364        -0.642745        0.261624       -0.740897   \n",
      "4      -48.687656        -0.366073        1.352094       -0.746156   \n",
      "\n",
      "   max_hist_trans  num_merch_transactions  sum_merch_trans  mean_merch_trans  \\\n",
      "0        2.258395                    23.0       -13.244202         -0.575835   \n",
      "1        4.630299                     6.0        -4.355735         -0.725956   \n",
      "2       -0.145847                     1.0        -0.700326         -0.700326   \n",
      "3        1.445596                     7.0        -4.654372         -0.664910   \n",
      "4        7.193041                    36.0       -19.926237         -0.553507   \n",
      "\n",
      "   std_merch_trans  min_merch_trans  max_merch_trans  \n",
      "0         0.135812        -0.724368        -0.296112  \n",
      "1         0.014326        -0.739410        -0.701858  \n",
      "2              NaN        -0.700326        -0.700326  \n",
      "3         0.065882        -0.734135        -0.566740  \n",
      "4         0.223821        -0.739395         0.450886  \n",
      "-----------------------------------------------------------------------------\n",
      "Test_X: \n",
      "\n",
      "   feature_1  feature_2  feature_3    year  month  num_hist_transactions  \\\n",
      "0          3          3          1  2017.0    4.0                     68   \n",
      "1          2          3          0  2017.0    1.0                     78   \n",
      "2          5          1          1  2017.0    8.0                     13   \n",
      "3          2          1          0  2017.0   12.0                     26   \n",
      "4          5          1          1  2015.0   12.0                    110   \n",
      "\n",
      "   sum_hist_trans  mean_hist_trans  std_hist_trans  min_hist_trans  \\\n",
      "0      -40.733733        -0.599025        0.192268       -0.743902   \n",
      "1      -49.136513        -0.629955        0.154999       -0.731881   \n",
      "2        4.528840         0.348372        0.906547       -0.536537   \n",
      "3      -13.690715        -0.526566        0.219162       -0.731881   \n",
      "4       25.139384         0.228540        2.777764       -0.746758   \n",
      "\n",
      "   max_hist_trans  num_merch_transactions  sum_merch_trans  mean_merch_trans  \\\n",
      "0        0.235676                     3.0        -1.777156         -0.592385   \n",
      "1        0.318817                     9.0        -5.944698         -0.660522   \n",
      "2        2.525866                     2.0         0.180138          0.090069   \n",
      "3        0.087965                    10.0        -5.743674         -0.574367   \n",
      "4       15.782255                     6.0        12.064997          2.010833   \n",
      "\n",
      "   std_merch_trans  min_merch_trans  max_merch_trans  \n",
      "0         0.182843        -0.722114        -0.383266  \n",
      "1         0.071147        -0.740897        -0.506484  \n",
      "2         1.151788        -0.724368         0.904506  \n",
      "3         0.073166        -0.671775        -0.447880  \n",
      "4         6.028671        -0.704082        14.279604  \n",
      "-----------------------------------------------------------------------------\n",
      "Train_y: \n",
      "\n",
      "[-0.8202826   0.39291325  0.68805599  0.1424952  -0.15974919]\n"
     ]
    }
   ],
   "source": [
    "train[\"year\"] = train[\"first_active_month\"].dt.year\n",
    "test[\"year\"] = test[\"first_active_month\"].dt.year\n",
    "train[\"month\"] = train[\"first_active_month\"].dt.month\n",
    "test[\"month\"] = test[\"first_active_month\"].dt.month\n",
    "\n",
    "cols_to_use = [\"feature_1\", \"feature_2\", \"feature_3\", \"year\", \"month\", \n",
    "               \"num_hist_transactions\", \"sum_hist_trans\", \"mean_hist_trans\", \"std_hist_trans\", \n",
    "               \"min_hist_trans\", \"max_hist_trans\",\n",
    "               \"num_merch_transactions\", \"sum_merch_trans\", \"mean_merch_trans\", \"std_merch_trans\",\n",
    "               \"min_merch_trans\", \"max_merch_trans\",\n",
    "              ]\n",
    "\n",
    "\n",
    "train_X = train[cols_to_use]\n",
    "test_X = test[cols_to_use]\n",
    "train_y = train['target'].values\n",
    "\n",
    "print('Train_X: \\n')\n",
    "print(train_X.head(5))\n",
    "print('-----------------------------------------------------------------------------')\n",
    "print('Test_X: \\n')\n",
    "print(test_X.head(5))\n",
    "print('-----------------------------------------------------------------------------')\n",
    "print('Train_y: \\n')\n",
    "print(train_y[:5])"
   ]
  }
 ],
 "metadata": {
  "kernelspec": {
   "display_name": "Python 3",
   "language": "python",
   "name": "python3"
  },
  "language_info": {
   "codemirror_mode": {
    "name": "ipython",
    "version": 3
   },
   "file_extension": ".py",
   "mimetype": "text/x-python",
   "name": "python",
   "nbconvert_exporter": "python",
   "pygments_lexer": "ipython3",
   "version": "3.6.4"
  }
 },
 "nbformat": 4,
 "nbformat_minor": 2
}
